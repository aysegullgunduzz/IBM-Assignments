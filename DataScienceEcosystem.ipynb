{
  "metadata": {
    "kernelspec": {
      "name": "python",
      "display_name": "Python (Pyodide)",
      "language": "python"
    },
    "language_info": {
      "codemirror_mode": {
        "name": "python",
        "version": 3
      },
      "file_extension": ".py",
      "mimetype": "text/x-python",
      "name": "python",
      "nbconvert_exporter": "python",
      "pygments_lexer": "ipython3",
      "version": "3.8"
    }
  },
  "nbformat_minor": 4,
  "nbformat": 4,
  "cells": [
    {
      "cell_type": "markdown",
      "source": " # **2. Data Science Tools and Ecosystem**",
      "metadata": {}
    },
    {
      "cell_type": "markdown",
      "source": "3. In this notebook, Data Science Tools and Ecosystem are summarized.",
      "metadata": {}
    },
    {
      "cell_type": "markdown",
      "source": "4. Some of the popular languages that Data Scientists use are:\n- R\n- Python\n- SQL",
      "metadata": {}
    },
    {
      "cell_type": "markdown",
      "source": "5.Some of the commonly used libraries used by Data Scientists include:\n1. Python Libraries\n    - Numpy\n    - Pandas\n    - Matplotlib\n2. R libraries\n    - ggplot2\n    - dplyr\n    - tidyverse",
      "metadata": {}
    },
    {
      "cell_type": "markdown",
      "source": "6. Create a single column table in this cell with the first row containing the header Data Science Tools\n| Data Science Tools |\n|--------------------|\n| R Studio           |\n| Jupyter Notebook   |\n| JupyterLab         |\n",
      "metadata": {}
    },
    {
      "cell_type": "markdown",
      "source": "### 7. Below are a few examples of evaluating arithmetic expressions in Python\n",
      "metadata": {}
    },
    {
      "cell_type": "code",
      "source": "# 8.This is a simple arithmetic expression to multiply then add integers\nresult = (3 * 4) + 5\nprint(result)\n",
      "metadata": {
        "trusted": true
      },
      "outputs": [
        {
          "name": "stdout",
          "text": "17\n",
          "output_type": "stream"
        }
      ],
      "execution_count": 11
    },
    {
      "cell_type": "code",
      "source": "# 9.This will convert 200 minutes to hours by dividing by 60\nminutes = 200\nhours = minutes / 60\nprint(hours)\n",
      "metadata": {
        "trusted": true
      },
      "outputs": [
        {
          "name": "stdout",
          "text": "3.3333333333333335\n",
          "output_type": "stream"
        }
      ],
      "execution_count": 12
    },
    {
      "cell_type": "markdown",
      "source": "**10.Objectives:**\n\n- List popular languages for Data Science\n- Demonstrate basic Python syntax and operations\n- Explore data manipulation and analysis with Pandas\n- Introduction to data visualization using Matplotlib and Seaborn\n- Overview of machine learning concepts with examples\n",
      "metadata": {}
    },
    {
      "cell_type": "markdown",
      "source": "## 11.Author\nAYSEGUL GUNDUZ",
      "metadata": {}
    },
    {
      "cell_type": "code",
      "source": "",
      "metadata": {
        "trusted": true
      },
      "outputs": [],
      "execution_count": null
    }
  ]
}